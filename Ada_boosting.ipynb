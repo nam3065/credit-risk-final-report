{
  "nbformat": 4,
  "nbformat_minor": 0,
  "metadata": {
    "colab": {
      "provenance": [],
      "authorship_tag": "ABX9TyMW5kd06Szcl8Hn74K0nXHs",
      "include_colab_link": true
    },
    "kernelspec": {
      "name": "python3",
      "display_name": "Python 3"
    },
    "language_info": {
      "name": "python"
    }
  },
  "cells": [
    {
      "cell_type": "markdown",
      "metadata": {
        "id": "view-in-github",
        "colab_type": "text"
      },
      "source": [
        "<a href=\"https://colab.research.google.com/github/soton-study/credit-risk-final-report/blob/main/Ada_boosting.ipynb\" target=\"_parent\"><img src=\"https://colab.research.google.com/assets/colab-badge.svg\" alt=\"Open In Colab\"/></a>"
      ]
    },
    {
      "cell_type": "code",
      "execution_count": 1,
      "metadata": {
        "id": "v1cDlP3SzCoR"
      },
      "outputs": [],
      "source": [
        "import pandas as pd\n",
        "\n",
        "# Load the uploaded dataset\n",
        "credit_data = pd.read_csv('Credit data.csv')\n",
        "\n",
        "# Display the first few rows of the dataset to understand its structure\n",
        "credit_data.head()\n",
        "# Separate features and target variable\n",
        "X = credit_data.drop(columns=[\"ID\", \"Default\"])  # Drop ID and target columns\n",
        "y = credit_data[\"Default\"]"
      ]
    },
    {
      "cell_type": "code",
      "source": [
        "from imblearn.over_sampling import SMOTE\n",
        "from sklearn.model_selection import train_test_split\n",
        "# Apply SMOTE\n",
        "smote = SMOTE(random_state=36621943)  # Random seed for reproducibility\n",
        "X_resampled, y_resampled = smote.fit_resample(X, y)\n"
      ],
      "metadata": {
        "id": "m6PVYBoauDp5"
      },
      "execution_count": 5,
      "outputs": []
    },
    {
      "cell_type": "code",
      "source": [
        "X_train, X_test, y_train, y_test = train_test_split(X_resampled, y_resampled,\n",
        "                                                    test_size=0.3, random_state=36621943, stratify=y_resampled)\n",
        "X_train.shape, X_test.shape, y_train.shape, y_test.shape"
      ],
      "metadata": {
        "id": "nLoV2k1Lrxo5",
        "colab": {
          "base_uri": "https://localhost:8080/"
        },
        "outputId": "68bfc573-1c9c-4c7b-afd8-19dc0cf9e2b7"
      },
      "execution_count": 6,
      "outputs": [
        {
          "output_type": "execute_result",
          "data": {
            "text/plain": [
              "((12738, 10), (5460, 10), (12738,), (5460,))"
            ]
          },
          "metadata": {},
          "execution_count": 6
        }
      ]
    },
    {
      "cell_type": "code",
      "source": [
        "from sklearn.ensemble import RandomForestClassifier, AdaBoostClassifier\n",
        "from sklearn.metrics import classification_report, confusion_matrix, accuracy_score\n",
        "\n",
        "# Initialize the base model and AdaBoost\n",
        "rf_model = RandomForestClassifier(n_estimators=100, random_state=36621943)\n",
        "ada_rf_model = AdaBoostClassifier(estimator=rf_model, n_estimators=50, random_state=36621943)\n",
        "\n",
        "# Fit the RF model\n",
        "\n",
        "rf_model.fit(X_train, y_train)\n",
        "\n",
        "# Fit the AdaBoost model\n",
        "ada_rf_model.fit(X_train, y_train)\n",
        "\n",
        "# Make predictions RF\n",
        "y_pred_rf = rf_model.predict(X_test)\n",
        "\n",
        "# Evaluate the model\n",
        "conf_matrix_rf = confusion_matrix(y_test, y_pred_rf)\n",
        "class_report_rf = classification_report(y_test, y_pred_rf)\n",
        "accuracy_rf = accuracy_score(y_test, y_pred_rf)\n",
        "\n",
        "\n"
      ],
      "metadata": {
        "id": "g7ogc-wB1qHE"
      },
      "execution_count": 16,
      "outputs": []
    },
    {
      "cell_type": "code",
      "source": [
        "# Make predictions ADRF\n",
        "y_pred_adrf = ada_rf_model.predict(X_test)\n",
        "\n",
        "# Evaluate the model ADRF\n",
        "conf_matrix_adrf = confusion_matrix(y_test, y_pred_adrf)\n",
        "class_report_adrf = classification_report(y_test, y_pred_adrf)\n",
        "accuracy_adrf = accuracy_score(y_test, y_pred_adrf)"
      ],
      "metadata": {
        "id": "Zgov32bJjcpg"
      },
      "execution_count": 17,
      "outputs": []
    },
    {
      "cell_type": "code",
      "source": [
        "print(conf_matrix_rf)\n",
        "print(class_report_rf)\n",
        "print(accuracy_rf)"
      ],
      "metadata": {
        "colab": {
          "base_uri": "https://localhost:8080/"
        },
        "id": "GMNxP3q-ujZ-",
        "outputId": "afde32b3-b9b5-4cc4-eec1-55539f2f37a9"
      },
      "execution_count": 18,
      "outputs": [
        {
          "output_type": "stream",
          "name": "stdout",
          "text": [
            "[[2505  225]\n",
            " [ 176 2554]]\n",
            "              precision    recall  f1-score   support\n",
            "\n",
            "           0       0.93      0.92      0.93      2730\n",
            "           1       0.92      0.94      0.93      2730\n",
            "\n",
            "    accuracy                           0.93      5460\n",
            "   macro avg       0.93      0.93      0.93      5460\n",
            "weighted avg       0.93      0.93      0.93      5460\n",
            "\n",
            "0.9265567765567766\n"
          ]
        }
      ]
    },
    {
      "cell_type": "code",
      "source": [
        "print(conf_matrix_adrf)\n",
        "print(class_report_adrf)\n",
        "print(accuracy_adrf)"
      ],
      "metadata": {
        "colab": {
          "base_uri": "https://localhost:8080/"
        },
        "id": "hmcIDWqkkvBP",
        "outputId": "f0ca1d90-8cb2-47b3-b5e3-e704bc0a2f2d"
      },
      "execution_count": 19,
      "outputs": [
        {
          "output_type": "stream",
          "name": "stdout",
          "text": [
            "[[2515  215]\n",
            " [ 178 2552]]\n",
            "              precision    recall  f1-score   support\n",
            "\n",
            "           0       0.93      0.92      0.93      2730\n",
            "           1       0.92      0.93      0.93      2730\n",
            "\n",
            "    accuracy                           0.93      5460\n",
            "   macro avg       0.93      0.93      0.93      5460\n",
            "weighted avg       0.93      0.93      0.93      5460\n",
            "\n",
            "0.9280219780219781\n"
          ]
        }
      ]
    },
    {
      "cell_type": "code",
      "source": [
        "from sklearn.linear_model import LogisticRegression\n",
        "lr_model = LogisticRegression(penalty='l2', # Type of penalization l1 = lasso, l2 = ridge\n",
        "                                     tol=0.0001, # Tolerance for parameters\n",
        "                                     C=0.1, # Penalty constant, see below\n",
        "                                     fit_intercept=True, # Use constant?\n",
        "                                     class_weight='balanced', # Weights, see below\n",
        "                                     random_state=36621943, # Random seed student ID\n",
        "                                     max_iter=300, # Maximum iterations\n",
        "                                     verbose=1, # Show process. 1 is yes.\n",
        "                                     solver = 'liblinear',\n",
        "                                     warm_start=False # Train anew or start from previous weights. For repeated training.\n",
        "                                    )\n",
        "ada_lr_model = AdaBoostClassifier(estimator=lr_model, n_estimators=50, random_state=36621943)\n",
        "\n",
        "# Fit LR model\n",
        "lr_model.fit(X_train, y_train)\n",
        "\n",
        "# Make predictions\n",
        "y_pred_lr = lr_model.predict(X_test)\n",
        "\n",
        "# Evaluate the model\n",
        "conf_matrix_lr = confusion_matrix(y_test, y_pred_lr)\n",
        "class_report_lr = classification_report(y_test, y_pred_lr)\n",
        "accuracy_lr = accuracy_score(y_test, y_pred_lr)\n",
        "\n",
        "print(conf_matrix_lr)\n",
        "print(class_report_lr)\n",
        "print(accuracy_lr)\n",
        "\n",
        "\n"
      ],
      "metadata": {
        "colab": {
          "base_uri": "https://localhost:8080/"
        },
        "id": "z-JyKlZevTix",
        "outputId": "81a01657-4973-409a-8c77-ac92176f1325"
      },
      "execution_count": 20,
      "outputs": [
        {
          "output_type": "stream",
          "name": "stdout",
          "text": [
            "[LibLinear][[2111  619]\n",
            " [ 694 2036]]\n",
            "              precision    recall  f1-score   support\n",
            "\n",
            "           0       0.75      0.77      0.76      2730\n",
            "           1       0.77      0.75      0.76      2730\n",
            "\n",
            "    accuracy                           0.76      5460\n",
            "   macro avg       0.76      0.76      0.76      5460\n",
            "weighted avg       0.76      0.76      0.76      5460\n",
            "\n",
            "0.7595238095238095\n"
          ]
        }
      ]
    },
    {
      "cell_type": "code",
      "source": [
        "# Fit the AdaBoost model\n",
        "ada_lr_model.fit(X_train, y_train)\n",
        "\n",
        "# Make predictions\n",
        "y_pred_adlr = ada_rf_model.predict(X_test)\n",
        "\n",
        "# Evaluate the model\n",
        "conf_matrix_adlr = confusion_matrix(y_test, y_pred_lr)\n",
        "class_report_adlr = classification_report(y_test, y_pred_lr)\n",
        "accuracy_adlr = accuracy_score(y_test, y_pred_lr)"
      ],
      "metadata": {
        "colab": {
          "base_uri": "https://localhost:8080/"
        },
        "id": "R21-T_F2kQRh",
        "outputId": "78cce6e3-40ce-46b3-a5df-914a98a94929"
      },
      "execution_count": 23,
      "outputs": [
        {
          "output_type": "stream",
          "name": "stdout",
          "text": [
            "[LibLinear][LibLinear][LibLinear][LibLinear][LibLinear][LibLinear][LibLinear][LibLinear][LibLinear][LibLinear][LibLinear][LibLinear][LibLinear][LibLinear][LibLinear][LibLinear][LibLinear][LibLinear][LibLinear][LibLinear][LibLinear][LibLinear][LibLinear][LibLinear][LibLinear][LibLinear][LibLinear][LibLinear][LibLinear][LibLinear]"
          ]
        }
      ]
    },
    {
      "cell_type": "code",
      "source": [
        "print(conf_matrix_adlr)\n",
        "print(class_report_adlr)\n",
        "print(accuracy_adlr)"
      ],
      "metadata": {
        "colab": {
          "base_uri": "https://localhost:8080/"
        },
        "id": "2xhgAfvCwAHF",
        "outputId": "244ebb05-4a32-4cc1-bf2d-886b7fc5782d"
      },
      "execution_count": 24,
      "outputs": [
        {
          "output_type": "stream",
          "name": "stdout",
          "text": [
            "[[2515  215]\n",
            " [ 178 2552]]\n",
            "              precision    recall  f1-score   support\n",
            "\n",
            "           0       0.93      0.92      0.93      2730\n",
            "           1       0.92      0.93      0.93      2730\n",
            "\n",
            "    accuracy                           0.93      5460\n",
            "   macro avg       0.93      0.93      0.93      5460\n",
            "weighted avg       0.93      0.93      0.93      5460\n",
            "\n",
            "0.9280219780219781\n"
          ]
        }
      ]
    }
  ]
}